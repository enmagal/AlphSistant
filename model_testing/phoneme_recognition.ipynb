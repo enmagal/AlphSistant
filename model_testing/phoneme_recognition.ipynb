{
 "cells": [
  {
   "cell_type": "code",
   "execution_count": 1,
   "id": "87aeb01f-3064-48df-bca6-dac61ef1cd68",
   "metadata": {},
   "outputs": [],
   "source": [
    "import wave\n",
    "import json\n",
    "import numpy as np\n",
    "import cv2\n",
    "\n",
    "from vosk import Model, KaldiRecognizer, SetLogLevel\n",
    "import Word as custom_Word\n",
    "\n",
    "import pandas as pd"
   ]
  },
  {
   "cell_type": "code",
   "execution_count": 2,
   "id": "1379148b-a81e-465c-b671-33e3f2e4a4dc",
   "metadata": {},
   "outputs": [],
   "source": [
    "def wordToLetter(word):\n",
    "    letter_len = (word.end-word.start)/len(word.word)\n",
    "    letter_list = []\n",
    "    i = 0\n",
    "    while i < len(word.word):\n",
    "        if word.word[i] == 'a' or word.word[i] == 'e' or word.word[i] == 'i':\n",
    "            letter = ['a', word.start+(i*letter_len), word.start+((i+1)*letter_len)]\n",
    "            letter_list.append(letter)\n",
    "        elif word.word[i] == 'o':\n",
    "            letter = ['o', word.start+(i*letter_len), word.start+((i+1)*letter_len)]\n",
    "            letter_list.append(letter)\n",
    "        elif word.word[i] == 'd' or word.word[i] == 'n' or word.word[i] == 'x' or word.word[i] == 'y' or word.word[i] == 'z':\n",
    "            letter = ['c', word.start+(i*letter_len), word.start+((i+1)*letter_len)]\n",
    "            letter_list.append(letter)\n",
    "        elif word.word[i] == 'g' or word.word[i] == 'k':\n",
    "            letter = ['g', word.start+(i*letter_len), word.start+((i+1)*letter_len)]\n",
    "            letter_list.append(letter)\n",
    "        elif word.word[i] == 'l':\n",
    "            letter = ['l', word.start+(i*letter_len), word.start+((i+1)*letter_len)]\n",
    "            letter_list.append(letter)\n",
    "        elif word.word[i] == 'b' or word.word[i] == 'm' or word.word[i] == 'p':\n",
    "            letter = ['b', word.start+(i*letter_len), word.start+((i+1)*letter_len)]\n",
    "            letter_list.append(letter)\n",
    "        elif word.word[i] == 'f' or word.word[i] == 'v':\n",
    "            letter = ['f', word.start+(i*letter_len), word.start+((i+1)*letter_len)]\n",
    "            letter_list.append(letter)\n",
    "        elif word.word[i] == 'j':\n",
    "            letter = ['j', word.start+(i*letter_len), word.start+((i+1)*letter_len)]\n",
    "            letter_list.append(letter)\n",
    "        elif word.word[i] == 'u':\n",
    "            letter = ['u', word.start+(i*letter_len), word.start+((i+1)*letter_len)]\n",
    "            letter_list.append(letter)\n",
    "        elif word.word[i] == 'q' or word.word[i] == 'w':\n",
    "            letter = ['q', word.start+(i*letter_len), word.start+((i+1)*letter_len)]\n",
    "            letter_list.append(letter)\n",
    "        elif word.word[i] == 'c':\n",
    "            if i < (len(word.word)-1) and word.word[i+1] == 'h':\n",
    "                letter = ['j', word.start+(i*letter_len), word.start+((i+2)*letter_len)]\n",
    "                letter_list.append(letter)\n",
    "                i += 1\n",
    "            else :\n",
    "                letter = ['c', word.start+(i*letter_len), word.start+((i+1)*letter_len)]\n",
    "                letter_list.append(letter)\n",
    "        elif word.word[i] == 's':\n",
    "            if i < (len(word.word)-1) and word.word[i+1] == 'h':\n",
    "                letter = ['j', word.start+(i*letter_len), word.start+((i+2)*letter_len)]\n",
    "                letter_list.append(letter)\n",
    "                i += 1\n",
    "            else :\n",
    "                letter = ['c', word.start+(i*letter_len), word.start+((i+1)*letter_len)]\n",
    "                letter_list.append(letter)\n",
    "        elif word.word[i] == 't':\n",
    "            if i < (len(word.word)-1) and word.word[i+1] == 'h':\n",
    "                letter = ['t', word.start+(i*letter_len), word.start+((i+2)*letter_len)]\n",
    "                letter_list.append(letter)\n",
    "                i += 1\n",
    "            else :\n",
    "                letter = ['c', word.start+(i*letter_len), word.start+((i+1)*letter_len)]\n",
    "                letter_list.append(letter)\n",
    "        i += 1\n",
    "    return letter_list"
   ]
  },
  {
   "cell_type": "code",
   "execution_count": 3,
   "id": "da12f241-5496-4a3e-865c-7dc4bfe23260",
   "metadata": {},
   "outputs": [],
   "source": [
    "def audioToLetters(model_path, audio_filename):\n",
    "    model = Model(model_path)\n",
    "    wf = wave.open(audio_filename, \"rb\")\n",
    "    rec = KaldiRecognizer(model, wf.getframerate())\n",
    "    rec.SetWords(True)\n",
    "\n",
    "    # get the list of JSON dictionaries\n",
    "    results = []\n",
    "    # recognize speech using vosk model\n",
    "    while True:\n",
    "        data = wf.readframes(4000)\n",
    "        if len(data) == 0:\n",
    "            break\n",
    "        if rec.AcceptWaveform(data):\n",
    "            part_result = json.loads(rec.Result())\n",
    "            results.append(part_result)\n",
    "    part_result = json.loads(rec.FinalResult())\n",
    "    results.append(part_result)\n",
    "\n",
    "    # convert list of JSON dictionaries to list of 'Word' objects\n",
    "    list_of_Words = []\n",
    "    for sentence in results:\n",
    "        if len(sentence) == 1:\n",
    "            # sometimes there are bugs in recognition \n",
    "            # and it returns an empty dictionary\n",
    "            # {'text': ''}\n",
    "            continue\n",
    "        for obj in sentence['result']:\n",
    "            w = custom_Word.Word(obj)  # create custom Word object\n",
    "            list_of_Words.append(w)  # and add it to list\n",
    "\n",
    "    wf.close()  # close audiofile\n",
    "\n",
    "    result_list = []\n",
    "    for elt in list_of_Words:\n",
    "        letter_list = wordToLetter(elt)\n",
    "        for letter in letter_list:\n",
    "            result_list.append(letter)\n",
    "    return result_list"
   ]
  },
  {
   "cell_type": "code",
   "execution_count": 4,
   "id": "0c48faf0-df9d-46a8-8bad-fb7d96235f42",
   "metadata": {},
   "outputs": [],
   "source": [
    "model_path = \"models/vosk-model-en-us-0.21\"\n",
    "audio_filename = \"C:/Users/Enzo.Magal/Documents/Enzo2021/VidTIMIT/fadg0/audio/sx379.wav\"\n",
    "\n",
    "letter_list = audioToLetters(model_path, audio_filename)\n",
    "index = list(range(len(letter_list)))\n",
    "df = pd.DataFrame(0, index=index,columns=['a', 'o', 'c', 'g', 'l', 'b', 'f', 't', 'j', 'u', 'q', 'start', 'end'])\n",
    "\n",
    "i = 0\n",
    "for elt in letter_list:\n",
    "    df.loc[i, elt[0]] = 1\n",
    "    df.loc[i, 'start'] = int(elt[1]*24)\n",
    "    df.loc[i, 'end'] = int(elt[2]*24)\n",
    "    i += 1\n",
    "\n",
    "df.to_csv(\"C:/Users/Enzo.Magal/Documents/Enzo2021/VidTIMIT/fadg0/phoneme_list/sx379.csv\", index=False)"
   ]
  },
  {
   "cell_type": "code",
   "execution_count": 5,
   "id": "f63b7c1d-e68b-45d5-94b6-29803fa1a6cf",
   "metadata": {},
   "outputs": [],
   "source": [
    "files = ['sa1', 'sa2', 'si1279', 'si1909', 'si649', 'sx109', 'sx19', 'sx199', 'sx289', 'sx379']"
   ]
  },
  {
   "cell_type": "code",
   "execution_count": 105,
   "id": "1ee1aea0-b3e4-4cb5-ba33-efceda2a699b",
   "metadata": {},
   "outputs": [],
   "source": [
    "data = pd.DataFrame(0, index=index,columns=['speaker', 'record', 'phoneme', 'face_mesh_path'])\n",
    "y = 0\n",
    "for file in files :\n",
    "    df = pd.read_csv(\"C:/Users/Enzo.Magal/Documents/Enzo2021/VidTIMIT/fadg0/phoneme_list/\"+ file + \".csv\")\n",
    "    for i in range(len(df)):\n",
    "        phoneme_index = np.where(df.iloc[i, :] == 1)[0][0]\n",
    "        frame = int((df.loc[i, 'start'] + df.loc[i, 'end'])/2)\n",
    "        frame = '{:03}'.format(frame)\n",
    "        fmpath = \"fadg0/face_mesh/\" + file + \"/face_\" + frame \n",
    "        data.loc[y]=['fadg0', file, float(phoneme_index), fmpath]\n",
    "        y += 1"
   ]
  },
  {
   "cell_type": "code",
   "execution_count": 18,
   "id": "0abcb792-b6b9-4911-bdd2-3a5f6eece541",
   "metadata": {},
   "outputs": [
    {
     "name": "stdout",
     "output_type": "stream",
     "text": [
      "002\n"
     ]
    }
   ],
   "source": [
    "frame = 2\n",
    "frame = '{:03}'.format(frame)\n",
    "print(frame)"
   ]
  },
  {
   "cell_type": "code",
   "execution_count": 106,
   "id": "7ab7ce1b-fb70-4daf-8abd-a826d1ab6c5f",
   "metadata": {},
   "outputs": [
    {
     "data": {
      "text/html": [
       "<div>\n",
       "<style scoped>\n",
       "    .dataframe tbody tr th:only-of-type {\n",
       "        vertical-align: middle;\n",
       "    }\n",
       "\n",
       "    .dataframe tbody tr th {\n",
       "        vertical-align: top;\n",
       "    }\n",
       "\n",
       "    .dataframe thead th {\n",
       "        text-align: right;\n",
       "    }\n",
       "</style>\n",
       "<table border=\"1\" class=\"dataframe\">\n",
       "  <thead>\n",
       "    <tr style=\"text-align: right;\">\n",
       "      <th></th>\n",
       "      <th>speaker</th>\n",
       "      <th>record</th>\n",
       "      <th>phoneme</th>\n",
       "      <th>face_mesh_path</th>\n",
       "    </tr>\n",
       "  </thead>\n",
       "  <tbody>\n",
       "    <tr>\n",
       "      <th>0</th>\n",
       "      <td>fadg0</td>\n",
       "      <td>sa1</td>\n",
       "      <td>8.0</td>\n",
       "      <td>fadg0/face_mesh/sa1/face_018</td>\n",
       "    </tr>\n",
       "    <tr>\n",
       "      <th>1</th>\n",
       "      <td>fadg0</td>\n",
       "      <td>sa1</td>\n",
       "      <td>0.0</td>\n",
       "      <td>fadg0/face_mesh/sa1/face_021</td>\n",
       "    </tr>\n",
       "    <tr>\n",
       "      <th>2</th>\n",
       "      <td>fadg0</td>\n",
       "      <td>sa1</td>\n",
       "      <td>0.0</td>\n",
       "      <td>fadg0/face_mesh/sa1/face_025</td>\n",
       "    </tr>\n",
       "    <tr>\n",
       "      <th>3</th>\n",
       "      <td>fadg0</td>\n",
       "      <td>sa1</td>\n",
       "      <td>2.0</td>\n",
       "      <td>fadg0/face_mesh/sa1/face_027</td>\n",
       "    </tr>\n",
       "    <tr>\n",
       "      <th>4</th>\n",
       "      <td>fadg0</td>\n",
       "      <td>sa1</td>\n",
       "      <td>2.0</td>\n",
       "      <td>fadg0/face_mesh/sa1/face_028</td>\n",
       "    </tr>\n",
       "  </tbody>\n",
       "</table>\n",
       "</div>"
      ],
      "text/plain": [
       "  speaker record  phoneme                face_mesh_path\n",
       "0   fadg0    sa1      8.0  fadg0/face_mesh/sa1/face_018\n",
       "1   fadg0    sa1      0.0  fadg0/face_mesh/sa1/face_021\n",
       "2   fadg0    sa1      0.0  fadg0/face_mesh/sa1/face_025\n",
       "3   fadg0    sa1      2.0  fadg0/face_mesh/sa1/face_027\n",
       "4   fadg0    sa1      2.0  fadg0/face_mesh/sa1/face_028"
      ]
     },
     "execution_count": 106,
     "metadata": {},
     "output_type": "execute_result"
    }
   ],
   "source": [
    "data.head()"
   ]
  },
  {
   "cell_type": "code",
   "execution_count": 9,
   "id": "0a8bd3df-04a1-4f4a-a9a2-5d9f509d6869",
   "metadata": {},
   "outputs": [
    {
     "name": "stdout",
     "output_type": "stream",
     "text": [
      "   a  o  c  g  l  b  f  t  j  u  q  start  end\n",
      "0  0  0  0  0  0  0  0  0  1  0  0     16   20\n",
      "1  1  0  0  0  0  0  0  0  0  0  0     20   23\n",
      "2  1  0  0  0  0  0  0  0  0  0  0     25   26\n",
      "3  0  0  1  0  0  0  0  0  0  0  0     26   28\n",
      "4  0  0  1  0  0  0  0  0  0  0  0     28   29\n",
      "39\n",
      "39\n",
      "   a  o  c  g  l  b  f  t  j  u  q  start  end\n",
      "0  0  0  1  0  0  0  0  0  0  0  0     13   15\n",
      "1  0  1  0  0  0  0  0  0  0  0  0     15   16\n",
      "2  0  0  1  0  0  0  0  0  0  0  0     16   18\n",
      "3  0  0  1  0  0  0  0  0  0  0  0     20   21\n",
      "4  1  0  0  0  0  0  0  0  0  0  0     21   24\n",
      "29\n",
      "68\n",
      "   a  o  c  g  l  b  f  t  j  u  q  start  end\n",
      "0  0  0  0  1  0  0  0  0  0  0  0     14   16\n",
      "1  1  0  0  0  0  0  0  0  0  0  0     18   21\n",
      "2  1  0  0  0  0  0  0  0  0  0  0     21   23\n",
      "3  0  0  0  1  0  0  0  0  0  0  0     23   25\n",
      "4  0  0  1  0  0  0  0  0  0  0  0     25   28\n",
      "19\n",
      "87\n",
      "   a  o  c  g  l  b  f  t  j  u  q  start  end\n",
      "0  0  0  0  0  0  0  0  1  0  0  0     25   28\n",
      "1  1  0  0  0  0  0  0  0  0  0  0     28   30\n",
      "2  0  0  1  0  0  0  0  0  0  0  0     30   32\n",
      "3  0  0  0  0  0  0  0  0  1  0  0     33   39\n",
      "4  0  1  0  0  0  0  0  0  0  0  0     39   42\n",
      "31\n",
      "118\n",
      "   a  o  c  g  l  b  f  t  j  u  q  start  end\n",
      "0  1  0  0  0  0  0  0  0  0  0  0     10   12\n",
      "1  0  0  1  0  0  0  0  0  0  0  0     12   14\n",
      "2  0  0  1  0  0  0  0  0  0  0  0     14   16\n",
      "3  0  0  0  0  0  0  0  0  0  1  0     16   18\n",
      "4  0  0  0  0  0  0  1  0  0  0  0     18   20\n",
      "54\n",
      "172\n",
      "   a  o  c  g  l  b  f  t  j  u  q  start  end\n",
      "0  0  0  0  0  0  0  0  0  1  0  0     26   31\n",
      "1  1  0  0  0  0  0  0  0  0  0  0     31   33\n",
      "2  0  0  1  0  0  0  0  0  0  0  0     33   35\n",
      "3  0  0  0  0  1  0  0  0  0  0  0     35   37\n",
      "4  1  0  0  0  0  0  0  0  0  0  0     37   40\n",
      "39\n",
      "211\n",
      "   a  o  c  g  l  b  f  t  j  u  q  start  end\n",
      "0  1  0  0  0  0  0  0  0  0  0  0     16   18\n",
      "1  0  0  0  0  1  0  0  0  0  0  0     18   20\n",
      "2  0  0  0  0  0  0  0  0  0  1  0     20   22\n",
      "3  0  0  0  0  0  1  0  0  0  0  0     22   24\n",
      "4  1  0  0  0  0  0  0  0  0  0  0     24   26\n",
      "32\n",
      "243\n",
      "   a  o  c  g  l  b  f  t  j  u  q  start  end\n",
      "0  0  0  1  0  0  0  0  0  0  0  0     29   31\n",
      "1  0  1  0  0  0  0  0  0  0  0  0     31   33\n",
      "2  0  0  0  0  0  0  0  0  0  1  0     33   35\n",
      "3  0  0  1  0  0  0  0  0  0  0  0     35   37\n",
      "4  0  0  0  1  0  0  0  0  0  0  0     37   38\n",
      "48\n",
      "291\n",
      "   a  o  c  g  l  b  f  t  j  u  q  start  end\n",
      "0  0  0  0  0  0  0  0  0  0  0  1      0    4\n",
      "1  1  0  0  0  0  0  0  0  0  0  0      9   13\n",
      "2  1  0  0  0  0  0  0  0  0  0  0     18   23\n",
      "3  0  0  0  0  0  0  0  1  0  0  0     23   24\n",
      "4  1  0  0  0  0  0  0  0  0  0  0     24   25\n",
      "36\n",
      "327\n",
      "   a  o  c  g  l  b  f  t  j  u  q  start  end\n",
      "0  0  0  0  0  0  1  0  0  0  0  0     14   17\n",
      "1  1  0  0  0  0  0  0  0  0  0  0     17   20\n",
      "2  0  0  0  0  0  1  0  0  0  0  0     20   23\n",
      "3  0  0  0  1  0  0  0  0  0  0  0     24   25\n",
      "4  1  0  0  0  0  0  0  0  0  0  0     25   27\n",
      "30\n",
      "357\n"
     ]
    }
   ],
   "source": [
    "S = 0\n",
    "for file in files :\n",
    "    df = pd.read_csv(\"C:/Users/Enzo.Magal/Documents/Enzo2021/VidTIMIT/fadg0/phoneme_list/\"+ file + \".csv\")\n",
    "    print(df.head())\n",
    "    print(len(df))\n",
    "    S += len(df)\n",
    "    print(S)"
   ]
  },
  {
   "cell_type": "code",
   "execution_count": 107,
   "id": "0d8c0295-5849-42a5-b5f1-8fa07236e057",
   "metadata": {},
   "outputs": [],
   "source": [
    "data.to_csv(\"data.csv\", index=False)"
   ]
  },
  {
   "cell_type": "code",
   "execution_count": 11,
   "id": "2fe72427-9b9f-49ea-83b7-d6c1c282612e",
   "metadata": {},
   "outputs": [],
   "source": [
    "from sklearn.ensemble import RandomForestClassifier\n",
    "from sklearn.datasets import make_classification"
   ]
  },
  {
   "cell_type": "code",
   "execution_count": 12,
   "id": "76c8026b-037c-4702-b021-838967ea7359",
   "metadata": {},
   "outputs": [],
   "source": [
    "X, y = make_classification(n_samples=1000, n_features=4,\n",
    "                           n_informative=2, n_redundant=0,\n",
    "                           random_state=0, shuffle=False)"
   ]
  },
  {
   "cell_type": "code",
   "execution_count": 13,
   "id": "ceb6d0b1-806c-46b0-840b-9ec94ec5687c",
   "metadata": {},
   "outputs": [],
   "source": [
    "clf = RandomForestClassifier(max_depth=2, random_state=0)"
   ]
  },
  {
   "cell_type": "code",
   "execution_count": 14,
   "id": "fe9631b4-9e19-48d5-bf32-937366d4bc63",
   "metadata": {},
   "outputs": [
    {
     "data": {
      "text/plain": [
       "RandomForestClassifier(max_depth=2, random_state=0)"
      ]
     },
     "execution_count": 14,
     "metadata": {},
     "output_type": "execute_result"
    }
   ],
   "source": [
    "clf.fit(X, y)"
   ]
  },
  {
   "cell_type": "code",
   "execution_count": 15,
   "id": "9390413a-06a2-4888-a724-5dcdc33d5db2",
   "metadata": {},
   "outputs": [
    {
     "name": "stdout",
     "output_type": "stream",
     "text": [
      "[1]\n"
     ]
    }
   ],
   "source": [
    "print(clf.predict([[0, 0, 0, 0]]))"
   ]
  },
  {
   "cell_type": "code",
   "execution_count": 25,
   "id": "2943f8ba-2aa5-468c-90b1-6867dbcc1c78",
   "metadata": {},
   "outputs": [
    {
     "name": "stdout",
     "output_type": "stream",
     "text": [
      "478\n"
     ]
    }
   ],
   "source": [
    "import csv \n",
    "\n",
    "mesh_path = data.loc[0, 'face_mesh_path']\n",
    "path = \"C:/Users/Enzo.Magal/Documents/Enzo2021/VidTIMIT/\" + data.loc[0, 'face_mesh_path']\n",
    "f = open(path, 'r')\n",
    "# lire le contenu du fichier\n",
    "r = csv.reader(f, delimiter=\" \", quoting=csv.QUOTE_NONNUMERIC)\n",
    "liste = list(r)\n",
    "f.close()\n",
    "print(len(liste))"
   ]
  },
  {
   "cell_type": "code",
   "execution_count": 94,
   "id": "10d7364c-b22b-456d-b854-0603b50a3e8c",
   "metadata": {},
   "outputs": [],
   "source": [
    "X = []\n",
    "y = []\n",
    "for i in range(350):\n",
    "    path = \"C:/Users/Enzo.Magal/Documents/Enzo2021/VidTIMIT/\" + data.loc[i, 'face_mesh_path']\n",
    "    f = open(path, 'r')\n",
    "    # lire le contenu du fichier\n",
    "    r = csv.reader(f, delimiter=\" \", quoting=csv.QUOTE_NONNUMERIC)\n",
    "    face_mesh = list(r)\n",
    "    f.close()\n",
    "    X.append(face_mesh[0])\n",
    "    y.append(data.loc[i, 'phoneme'])"
   ]
  },
  {
   "cell_type": "code",
   "execution_count": 95,
   "id": "adfb4769-1f3b-4328-980d-916de80c0d49",
   "metadata": {},
   "outputs": [],
   "source": [
    "model = RandomForestClassifier()"
   ]
  },
  {
   "cell_type": "code",
   "execution_count": 96,
   "id": "945b5091-c4b3-4fde-9eef-ba118cea975c",
   "metadata": {},
   "outputs": [
    {
     "data": {
      "text/plain": [
       "RandomForestClassifier()"
      ]
     },
     "execution_count": 96,
     "metadata": {},
     "output_type": "execute_result"
    }
   ],
   "source": [
    "model.fit(X, y)"
   ]
  },
  {
   "cell_type": "code",
   "execution_count": 97,
   "id": "06773857-84b1-4e44-bc51-be60e0a66bad",
   "metadata": {},
   "outputs": [
    {
     "name": "stdout",
     "output_type": "stream",
     "text": [
      "['a']\n",
      "['c']\n",
      "['a']\n",
      "['o']\n",
      "['c']\n",
      "['a']\n",
      "['a']\n"
     ]
    }
   ],
   "source": [
    "for i in range(350, 357):\n",
    "    path = \"C:/Users/Enzo.Magal/Documents/Enzo2021/VidTIMIT/\" + data.loc[i, 'face_mesh_path']\n",
    "    f = open(path, 'r')\n",
    "    # lire le contenu du fichier\n",
    "    r = csv.reader(f, delimiter=\" \", quoting=csv.QUOTE_NONNUMERIC)\n",
    "    face_mesh = list(r)\n",
    "    f.close()\n",
    "    print(model.predict([face_mesh[0]]))"
   ]
  },
  {
   "cell_type": "code",
   "execution_count": 98,
   "id": "9ce6da47-1e3c-4041-8c79-db3c8ed9b9b8",
   "metadata": {},
   "outputs": [
    {
     "data": {
      "text/plain": [
       "[[0.4986247718334198, 0.5527295470237732, -0.03650111332535744]]"
      ]
     },
     "execution_count": 98,
     "metadata": {},
     "output_type": "execute_result"
    }
   ],
   "source": [
    "[face_mesh[0]]"
   ]
  },
  {
   "cell_type": "code",
   "execution_count": 99,
   "id": "2fa7ce0b-77b4-4aad-8412-e306d537eb12",
   "metadata": {},
   "outputs": [
    {
     "name": "stdout",
     "output_type": "stream",
     "text": [
      "(350, 3)\n",
      "0.5020045638084412\n",
      "(3,)\n"
     ]
    }
   ],
   "source": [
    "print(np.shape(X))\n",
    "print(X[0][0])\n",
    "print(np.shape(X[0]))"
   ]
  },
  {
   "cell_type": "code",
   "execution_count": 100,
   "id": "d72a619e-4e6b-4f2b-8461-e8d332e69fc0",
   "metadata": {},
   "outputs": [
    {
     "data": {
      "text/html": [
       "<div>\n",
       "<style scoped>\n",
       "    .dataframe tbody tr th:only-of-type {\n",
       "        vertical-align: middle;\n",
       "    }\n",
       "\n",
       "    .dataframe tbody tr th {\n",
       "        vertical-align: top;\n",
       "    }\n",
       "\n",
       "    .dataframe thead th {\n",
       "        text-align: right;\n",
       "    }\n",
       "</style>\n",
       "<table border=\"1\" class=\"dataframe\">\n",
       "  <thead>\n",
       "    <tr style=\"text-align: right;\">\n",
       "      <th></th>\n",
       "      <th>speaker</th>\n",
       "      <th>record</th>\n",
       "      <th>phoneme</th>\n",
       "      <th>face_mesh_path</th>\n",
       "    </tr>\n",
       "  </thead>\n",
       "  <tbody>\n",
       "    <tr>\n",
       "      <th>347</th>\n",
       "      <td>fadg0</td>\n",
       "      <td>sx379</td>\n",
       "      <td>c</td>\n",
       "      <td>fadg0/face_mesh/sx379/face_055</td>\n",
       "    </tr>\n",
       "    <tr>\n",
       "      <th>348</th>\n",
       "      <td>fadg0</td>\n",
       "      <td>sx379</td>\n",
       "      <td>o</td>\n",
       "      <td>fadg0/face_mesh/sx379/face_057</td>\n",
       "    </tr>\n",
       "    <tr>\n",
       "      <th>349</th>\n",
       "      <td>fadg0</td>\n",
       "      <td>sx379</td>\n",
       "      <td>c</td>\n",
       "      <td>fadg0/face_mesh/sx379/face_060</td>\n",
       "    </tr>\n",
       "    <tr>\n",
       "      <th>350</th>\n",
       "      <td>fadg0</td>\n",
       "      <td>sx379</td>\n",
       "      <td>t</td>\n",
       "      <td>fadg0/face_mesh/sx379/face_064</td>\n",
       "    </tr>\n",
       "    <tr>\n",
       "      <th>351</th>\n",
       "      <td>fadg0</td>\n",
       "      <td>sx379</td>\n",
       "      <td>u</td>\n",
       "      <td>fadg0/face_mesh/sx379/face_068</td>\n",
       "    </tr>\n",
       "    <tr>\n",
       "      <th>352</th>\n",
       "      <td>fadg0</td>\n",
       "      <td>sx379</td>\n",
       "      <td>c</td>\n",
       "      <td>fadg0/face_mesh/sx379/face_073</td>\n",
       "    </tr>\n",
       "    <tr>\n",
       "      <th>353</th>\n",
       "      <td>fadg0</td>\n",
       "      <td>sx379</td>\n",
       "      <td>c</td>\n",
       "      <td>fadg0/face_mesh/sx379/face_076</td>\n",
       "    </tr>\n",
       "    <tr>\n",
       "      <th>354</th>\n",
       "      <td>fadg0</td>\n",
       "      <td>sx379</td>\n",
       "      <td>a</td>\n",
       "      <td>fadg0/face_mesh/sx379/face_079</td>\n",
       "    </tr>\n",
       "    <tr>\n",
       "      <th>355</th>\n",
       "      <td>fadg0</td>\n",
       "      <td>sx379</td>\n",
       "      <td>c</td>\n",
       "      <td>fadg0/face_mesh/sx379/face_081</td>\n",
       "    </tr>\n",
       "    <tr>\n",
       "      <th>356</th>\n",
       "      <td>fadg0</td>\n",
       "      <td>sx379</td>\n",
       "      <td>c</td>\n",
       "      <td>fadg0/face_mesh/sx379/face_084</td>\n",
       "    </tr>\n",
       "  </tbody>\n",
       "</table>\n",
       "</div>"
      ],
      "text/plain": [
       "    speaker record phoneme                  face_mesh_path\n",
       "347   fadg0  sx379       c  fadg0/face_mesh/sx379/face_055\n",
       "348   fadg0  sx379       o  fadg0/face_mesh/sx379/face_057\n",
       "349   fadg0  sx379       c  fadg0/face_mesh/sx379/face_060\n",
       "350   fadg0  sx379       t  fadg0/face_mesh/sx379/face_064\n",
       "351   fadg0  sx379       u  fadg0/face_mesh/sx379/face_068\n",
       "352   fadg0  sx379       c  fadg0/face_mesh/sx379/face_073\n",
       "353   fadg0  sx379       c  fadg0/face_mesh/sx379/face_076\n",
       "354   fadg0  sx379       a  fadg0/face_mesh/sx379/face_079\n",
       "355   fadg0  sx379       c  fadg0/face_mesh/sx379/face_081\n",
       "356   fadg0  sx379       c  fadg0/face_mesh/sx379/face_084"
      ]
     },
     "execution_count": 100,
     "metadata": {},
     "output_type": "execute_result"
    }
   ],
   "source": [
    "data.tail(10)"
   ]
  },
  {
   "cell_type": "code",
   "execution_count": null,
   "id": "048a3eb9-5adb-400f-be5b-a75054ec2479",
   "metadata": {},
   "outputs": [],
   "source": []
  }
 ],
 "metadata": {
  "kernelspec": {
   "display_name": "Python 3 (ipykernel)",
   "language": "python",
   "name": "python3"
  },
  "language_info": {
   "codemirror_mode": {
    "name": "ipython",
    "version": 3
   },
   "file_extension": ".py",
   "mimetype": "text/x-python",
   "name": "python",
   "nbconvert_exporter": "python",
   "pygments_lexer": "ipython3",
   "version": "3.9.7"
  }
 },
 "nbformat": 4,
 "nbformat_minor": 5
}
