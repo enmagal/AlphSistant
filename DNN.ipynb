{
 "cells": [
  {
   "cell_type": "code",
   "execution_count": 1,
   "id": "0450b4db-1ecb-4e99-88bf-152dcfb45dc1",
   "metadata": {},
   "outputs": [],
   "source": [
    "import pandas as pd\n",
    "import random\n",
    "import csv\n",
    "import numpy as np"
   ]
  },
  {
   "cell_type": "code",
   "execution_count": 2,
   "id": "5c20f206-af9f-4b87-b985-6dc735c9c40e",
   "metadata": {},
   "outputs": [
    {
     "data": {
      "text/html": [
       "<div>\n",
       "<style scoped>\n",
       "    .dataframe tbody tr th:only-of-type {\n",
       "        vertical-align: middle;\n",
       "    }\n",
       "\n",
       "    .dataframe tbody tr th {\n",
       "        vertical-align: top;\n",
       "    }\n",
       "\n",
       "    .dataframe thead th {\n",
       "        text-align: right;\n",
       "    }\n",
       "</style>\n",
       "<table border=\"1\" class=\"dataframe\">\n",
       "  <thead>\n",
       "    <tr style=\"text-align: right;\">\n",
       "      <th></th>\n",
       "      <th>speaker</th>\n",
       "      <th>record</th>\n",
       "      <th>phoneme</th>\n",
       "      <th>face_mesh_path</th>\n",
       "    </tr>\n",
       "  </thead>\n",
       "  <tbody>\n",
       "    <tr>\n",
       "      <th>0</th>\n",
       "      <td>fadg0</td>\n",
       "      <td>sa1</td>\n",
       "      <td>8.0</td>\n",
       "      <td>fadg0/face_mesh/sa1/face_018</td>\n",
       "    </tr>\n",
       "    <tr>\n",
       "      <th>1</th>\n",
       "      <td>fadg0</td>\n",
       "      <td>sa1</td>\n",
       "      <td>0.0</td>\n",
       "      <td>fadg0/face_mesh/sa1/face_021</td>\n",
       "    </tr>\n",
       "    <tr>\n",
       "      <th>2</th>\n",
       "      <td>fadg0</td>\n",
       "      <td>sa1</td>\n",
       "      <td>0.0</td>\n",
       "      <td>fadg0/face_mesh/sa1/face_025</td>\n",
       "    </tr>\n",
       "    <tr>\n",
       "      <th>3</th>\n",
       "      <td>fadg0</td>\n",
       "      <td>sa1</td>\n",
       "      <td>2.0</td>\n",
       "      <td>fadg0/face_mesh/sa1/face_027</td>\n",
       "    </tr>\n",
       "    <tr>\n",
       "      <th>4</th>\n",
       "      <td>fadg0</td>\n",
       "      <td>sa1</td>\n",
       "      <td>2.0</td>\n",
       "      <td>fadg0/face_mesh/sa1/face_028</td>\n",
       "    </tr>\n",
       "    <tr>\n",
       "      <th>...</th>\n",
       "      <td>...</td>\n",
       "      <td>...</td>\n",
       "      <td>...</td>\n",
       "      <td>...</td>\n",
       "    </tr>\n",
       "    <tr>\n",
       "      <th>352</th>\n",
       "      <td>fadg0</td>\n",
       "      <td>sx379</td>\n",
       "      <td>2.0</td>\n",
       "      <td>fadg0/face_mesh/sx379/face_073</td>\n",
       "    </tr>\n",
       "    <tr>\n",
       "      <th>353</th>\n",
       "      <td>fadg0</td>\n",
       "      <td>sx379</td>\n",
       "      <td>2.0</td>\n",
       "      <td>fadg0/face_mesh/sx379/face_076</td>\n",
       "    </tr>\n",
       "    <tr>\n",
       "      <th>354</th>\n",
       "      <td>fadg0</td>\n",
       "      <td>sx379</td>\n",
       "      <td>0.0</td>\n",
       "      <td>fadg0/face_mesh/sx379/face_079</td>\n",
       "    </tr>\n",
       "    <tr>\n",
       "      <th>355</th>\n",
       "      <td>fadg0</td>\n",
       "      <td>sx379</td>\n",
       "      <td>2.0</td>\n",
       "      <td>fadg0/face_mesh/sx379/face_081</td>\n",
       "    </tr>\n",
       "    <tr>\n",
       "      <th>356</th>\n",
       "      <td>fadg0</td>\n",
       "      <td>sx379</td>\n",
       "      <td>2.0</td>\n",
       "      <td>fadg0/face_mesh/sx379/face_084</td>\n",
       "    </tr>\n",
       "  </tbody>\n",
       "</table>\n",
       "<p>357 rows × 4 columns</p>\n",
       "</div>"
      ],
      "text/plain": [
       "    speaker record  phoneme                  face_mesh_path\n",
       "0     fadg0    sa1      8.0    fadg0/face_mesh/sa1/face_018\n",
       "1     fadg0    sa1      0.0    fadg0/face_mesh/sa1/face_021\n",
       "2     fadg0    sa1      0.0    fadg0/face_mesh/sa1/face_025\n",
       "3     fadg0    sa1      2.0    fadg0/face_mesh/sa1/face_027\n",
       "4     fadg0    sa1      2.0    fadg0/face_mesh/sa1/face_028\n",
       "..      ...    ...      ...                             ...\n",
       "352   fadg0  sx379      2.0  fadg0/face_mesh/sx379/face_073\n",
       "353   fadg0  sx379      2.0  fadg0/face_mesh/sx379/face_076\n",
       "354   fadg0  sx379      0.0  fadg0/face_mesh/sx379/face_079\n",
       "355   fadg0  sx379      2.0  fadg0/face_mesh/sx379/face_081\n",
       "356   fadg0  sx379      2.0  fadg0/face_mesh/sx379/face_084\n",
       "\n",
       "[357 rows x 4 columns]"
      ]
     },
     "execution_count": 2,
     "metadata": {},
     "output_type": "execute_result"
    }
   ],
   "source": [
    "data = pd.read_csv(\"C:/Users/Enzo.Magal/Documents/Enzo2021/VidTIMIT/data.csv\")\n",
    "data"
   ]
  },
  {
   "cell_type": "code",
   "execution_count": 3,
   "id": "dc837187-97bc-48b0-b50f-f40b945eca88",
   "metadata": {},
   "outputs": [],
   "source": [
    "data['train/test'] = 'train'\n",
    "test_indices = random.sample(range(0,data.shape[0]), int((data.shape[0]*20)/100))\n",
    "for i in test_indices :\n",
    "    data.loc[i, 'train/test'] = 'test'"
   ]
  },
  {
   "cell_type": "code",
   "execution_count": 4,
   "id": "0ae2e01c-8f30-467f-8ad6-c3629ff0dfd4",
   "metadata": {},
   "outputs": [
    {
     "data": {
      "text/html": [
       "<div>\n",
       "<style scoped>\n",
       "    .dataframe tbody tr th:only-of-type {\n",
       "        vertical-align: middle;\n",
       "    }\n",
       "\n",
       "    .dataframe tbody tr th {\n",
       "        vertical-align: top;\n",
       "    }\n",
       "\n",
       "    .dataframe thead th {\n",
       "        text-align: right;\n",
       "    }\n",
       "</style>\n",
       "<table border=\"1\" class=\"dataframe\">\n",
       "  <thead>\n",
       "    <tr style=\"text-align: right;\">\n",
       "      <th></th>\n",
       "      <th>speaker</th>\n",
       "      <th>record</th>\n",
       "      <th>phoneme</th>\n",
       "      <th>face_mesh_path</th>\n",
       "      <th>train/test</th>\n",
       "    </tr>\n",
       "  </thead>\n",
       "  <tbody>\n",
       "    <tr>\n",
       "      <th>0</th>\n",
       "      <td>fadg0</td>\n",
       "      <td>sa1</td>\n",
       "      <td>8.0</td>\n",
       "      <td>fadg0/face_mesh/sa1/face_018</td>\n",
       "      <td>train</td>\n",
       "    </tr>\n",
       "    <tr>\n",
       "      <th>1</th>\n",
       "      <td>fadg0</td>\n",
       "      <td>sa1</td>\n",
       "      <td>0.0</td>\n",
       "      <td>fadg0/face_mesh/sa1/face_021</td>\n",
       "      <td>train</td>\n",
       "    </tr>\n",
       "    <tr>\n",
       "      <th>2</th>\n",
       "      <td>fadg0</td>\n",
       "      <td>sa1</td>\n",
       "      <td>0.0</td>\n",
       "      <td>fadg0/face_mesh/sa1/face_025</td>\n",
       "      <td>train</td>\n",
       "    </tr>\n",
       "    <tr>\n",
       "      <th>3</th>\n",
       "      <td>fadg0</td>\n",
       "      <td>sa1</td>\n",
       "      <td>2.0</td>\n",
       "      <td>fadg0/face_mesh/sa1/face_027</td>\n",
       "      <td>train</td>\n",
       "    </tr>\n",
       "    <tr>\n",
       "      <th>4</th>\n",
       "      <td>fadg0</td>\n",
       "      <td>sa1</td>\n",
       "      <td>2.0</td>\n",
       "      <td>fadg0/face_mesh/sa1/face_028</td>\n",
       "      <td>train</td>\n",
       "    </tr>\n",
       "    <tr>\n",
       "      <th>...</th>\n",
       "      <td>...</td>\n",
       "      <td>...</td>\n",
       "      <td>...</td>\n",
       "      <td>...</td>\n",
       "      <td>...</td>\n",
       "    </tr>\n",
       "    <tr>\n",
       "      <th>352</th>\n",
       "      <td>fadg0</td>\n",
       "      <td>sx379</td>\n",
       "      <td>2.0</td>\n",
       "      <td>fadg0/face_mesh/sx379/face_073</td>\n",
       "      <td>test</td>\n",
       "    </tr>\n",
       "    <tr>\n",
       "      <th>353</th>\n",
       "      <td>fadg0</td>\n",
       "      <td>sx379</td>\n",
       "      <td>2.0</td>\n",
       "      <td>fadg0/face_mesh/sx379/face_076</td>\n",
       "      <td>test</td>\n",
       "    </tr>\n",
       "    <tr>\n",
       "      <th>354</th>\n",
       "      <td>fadg0</td>\n",
       "      <td>sx379</td>\n",
       "      <td>0.0</td>\n",
       "      <td>fadg0/face_mesh/sx379/face_079</td>\n",
       "      <td>test</td>\n",
       "    </tr>\n",
       "    <tr>\n",
       "      <th>355</th>\n",
       "      <td>fadg0</td>\n",
       "      <td>sx379</td>\n",
       "      <td>2.0</td>\n",
       "      <td>fadg0/face_mesh/sx379/face_081</td>\n",
       "      <td>train</td>\n",
       "    </tr>\n",
       "    <tr>\n",
       "      <th>356</th>\n",
       "      <td>fadg0</td>\n",
       "      <td>sx379</td>\n",
       "      <td>2.0</td>\n",
       "      <td>fadg0/face_mesh/sx379/face_084</td>\n",
       "      <td>train</td>\n",
       "    </tr>\n",
       "  </tbody>\n",
       "</table>\n",
       "<p>357 rows × 5 columns</p>\n",
       "</div>"
      ],
      "text/plain": [
       "    speaker record  phoneme                  face_mesh_path train/test\n",
       "0     fadg0    sa1      8.0    fadg0/face_mesh/sa1/face_018      train\n",
       "1     fadg0    sa1      0.0    fadg0/face_mesh/sa1/face_021      train\n",
       "2     fadg0    sa1      0.0    fadg0/face_mesh/sa1/face_025      train\n",
       "3     fadg0    sa1      2.0    fadg0/face_mesh/sa1/face_027      train\n",
       "4     fadg0    sa1      2.0    fadg0/face_mesh/sa1/face_028      train\n",
       "..      ...    ...      ...                             ...        ...\n",
       "352   fadg0  sx379      2.0  fadg0/face_mesh/sx379/face_073       test\n",
       "353   fadg0  sx379      2.0  fadg0/face_mesh/sx379/face_076       test\n",
       "354   fadg0  sx379      0.0  fadg0/face_mesh/sx379/face_079       test\n",
       "355   fadg0  sx379      2.0  fadg0/face_mesh/sx379/face_081      train\n",
       "356   fadg0  sx379      2.0  fadg0/face_mesh/sx379/face_084      train\n",
       "\n",
       "[357 rows x 5 columns]"
      ]
     },
     "execution_count": 4,
     "metadata": {},
     "output_type": "execute_result"
    }
   ],
   "source": [
    "data"
   ]
  },
  {
   "cell_type": "code",
   "execution_count": 5,
   "id": "c05be0a4-e18c-46d3-8bf9-ea1372dff412",
   "metadata": {},
   "outputs": [],
   "source": [
    "X_train = []\n",
    "X_test = []\n",
    "\n",
    "y_train = []\n",
    "y_test = []\n",
    "\n",
    "for i in range(357):\n",
    "    path = \"C:/Users/Enzo.Magal/Documents/Enzo2021/VidTIMIT/\" + data.loc[i, 'face_mesh_path']\n",
    "    f = open(path, 'r')\n",
    "    # lire le contenu du fichier\n",
    "    r = csv.reader(f, delimiter=\" \", quoting=csv.QUOTE_NONNUMERIC)\n",
    "    face_mesh = list(r)\n",
    "    flat_list = [item for sublist in face_mesh for item in sublist]\n",
    "    f.close()\n",
    "    if data.loc[i, 'train/test'] == 'train':\n",
    "        y_train.append(flat_list)\n",
    "        X_train.append(data.loc[i, 'phoneme'])\n",
    "    else :\n",
    "        y_test.append(flat_list)\n",
    "        X_test.append(data.loc[i, 'phoneme'])"
   ]
  },
  {
   "cell_type": "code",
   "execution_count": 6,
   "id": "c99aba90-d91c-48d6-b77d-1a645d963a99",
   "metadata": {},
   "outputs": [
    {
     "name": "stdout",
     "output_type": "stream",
     "text": [
      "(286,)\n",
      "(286, 1434)\n",
      "(71,)\n",
      "(71, 1434)\n"
     ]
    }
   ],
   "source": [
    "print(np.shape(X_train))\n",
    "print(np.shape(y_train))\n",
    "print(np.shape(X_test))\n",
    "print(np.shape(y_test))"
   ]
  },
  {
   "cell_type": "code",
   "execution_count": 7,
   "id": "fda96aea-a2b2-4134-9b0c-12e388340510",
   "metadata": {},
   "outputs": [],
   "source": [
    "import pandas\n",
    "from keras.models import Sequential\n",
    "from keras.layers import Dense, Dropout, Flatten, Activation\n",
    "from keras.wrappers.scikit_learn import KerasClassifier\n",
    "from keras.utils import np_utils\n",
    "from sklearn.model_selection import cross_val_score\n",
    "from sklearn.model_selection import KFold\n",
    "from sklearn.preprocessing import LabelEncoder\n",
    "from sklearn.pipeline import Pipeline\n",
    "import tensorflow as tf"
   ]
  },
  {
   "cell_type": "code",
   "execution_count": 8,
   "id": "56bb769c-b584-4c25-a7cc-0e3bec3ed96f",
   "metadata": {},
   "outputs": [
    {
     "data": {
      "text/plain": [
       "(1434,)"
      ]
     },
     "execution_count": 8,
     "metadata": {},
     "output_type": "execute_result"
    }
   ],
   "source": [
    "np.shape(y_test[0])"
   ]
  },
  {
   "cell_type": "code",
   "execution_count": 10,
   "id": "2c12f03f-5f75-46f7-b117-517e53103e85",
   "metadata": {},
   "outputs": [
    {
     "name": "stdout",
     "output_type": "stream",
     "text": [
      "Model: \"sequential_1\"\n",
      "_________________________________________________________________\n",
      "Layer (type)                 Output Shape              Param #   \n",
      "=================================================================\n",
      "dense_2 (Dense)              (None, 100)               200       \n",
      "_________________________________________________________________\n",
      "dense_3 (Dense)              (None, 32)                3232      \n",
      "_________________________________________________________________\n",
      "dense_4 (Dense)              (None, 1434)              47322     \n",
      "=================================================================\n",
      "Total params: 50,754\n",
      "Trainable params: 50,754\n",
      "Non-trainable params: 0\n",
      "_________________________________________________________________\n"
     ]
    }
   ],
   "source": [
    "model = Sequential()\n",
    "model.add(Dense(100, input_dim=1, activation=\"relu\"))\n",
    "model.add(Dense(32, activation=\"relu\"))\n",
    "model.add(Dense(1434))\n",
    "model.compile(loss=\"mse\", optimizer=\"adam\")\n",
    " \n",
    "model.summary()"
   ]
  },
  {
   "cell_type": "code",
   "execution_count": 11,
   "id": "fab1f459-f3d3-4403-b73f-f248d97366ee",
   "metadata": {},
   "outputs": [
    {
     "name": "stdout",
     "output_type": "stream",
     "text": [
      "Epoch 1/10\n",
      "9/9 [==============================] - 1s 47ms/step - loss: 0.1527 - val_loss: 0.1319\n",
      "Epoch 2/10\n",
      "9/9 [==============================] - 0s 5ms/step - loss: 0.1179 - val_loss: 0.0933\n",
      "Epoch 3/10\n",
      "9/9 [==============================] - 0s 5ms/step - loss: 0.0879 - val_loss: 0.0783\n",
      "Epoch 4/10\n",
      "9/9 [==============================] - 0s 5ms/step - loss: 0.0732 - val_loss: 0.0650\n",
      "Epoch 5/10\n",
      "9/9 [==============================] - 0s 5ms/step - loss: 0.0629 - val_loss: 0.0562\n",
      "Epoch 6/10\n",
      "9/9 [==============================] - 0s 5ms/step - loss: 0.0544 - val_loss: 0.0479\n",
      "Epoch 7/10\n",
      "9/9 [==============================] - 0s 6ms/step - loss: 0.0448 - val_loss: 0.0379\n",
      "Epoch 8/10\n",
      "9/9 [==============================] - 0s 5ms/step - loss: 0.0342 - val_loss: 0.0275\n",
      "Epoch 9/10\n",
      "9/9 [==============================] - 0s 5ms/step - loss: 0.0229 - val_loss: 0.0168\n",
      "Epoch 10/10\n",
      "9/9 [==============================] - 0s 5ms/step - loss: 0.0128 - val_loss: 0.0080\n"
     ]
    }
   ],
   "source": [
    "history = model.fit(X_train, y_train, epochs=10, validation_data=(X_test, y_test))"
   ]
  },
  {
   "cell_type": "code",
   "execution_count": 12,
   "id": "9a00efe6-5472-42f1-bf0b-4f453d37561c",
   "metadata": {},
   "outputs": [],
   "source": [
    "ypred = model.predict(X_test)"
   ]
  },
  {
   "cell_type": "code",
   "execution_count": 13,
   "id": "08b0ac15-886f-4715-8320-0262d2357d3a",
   "metadata": {},
   "outputs": [
    {
     "data": {
      "text/plain": [
       "(71, 1434)"
      ]
     },
     "execution_count": 13,
     "metadata": {},
     "output_type": "execute_result"
    }
   ],
   "source": [
    "np.shape(ypred)"
   ]
  },
  {
   "cell_type": "code",
   "execution_count": null,
   "id": "4b55a478-17fb-4e6b-a08b-339e6bf75c2c",
   "metadata": {},
   "outputs": [],
   "source": []
  },
  {
   "cell_type": "code",
   "execution_count": null,
   "id": "b474aa7b-75b7-4240-9320-bfb70162aa83",
   "metadata": {},
   "outputs": [],
   "source": []
  }
 ],
 "metadata": {
  "kernelspec": {
   "display_name": "Python 3 (ipykernel)",
   "language": "python",
   "name": "python3"
  },
  "language_info": {
   "codemirror_mode": {
    "name": "ipython",
    "version": 3
   },
   "file_extension": ".py",
   "mimetype": "text/x-python",
   "name": "python",
   "nbconvert_exporter": "python",
   "pygments_lexer": "ipython3",
   "version": "3.9.7"
  }
 },
 "nbformat": 4,
 "nbformat_minor": 5
}
