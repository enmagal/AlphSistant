{
 "cells": [
  {
   "cell_type": "code",
   "execution_count": 1,
   "id": "7d9b7770-6564-45d1-b958-95c07505c15e",
   "metadata": {},
   "outputs": [],
   "source": [
    "import librosa"
   ]
  },
  {
   "cell_type": "code",
   "execution_count": 2,
   "id": "0a816548-f07a-4405-ac16-ce1059261ce8",
   "metadata": {},
   "outputs": [],
   "source": [
    "samples, sample_rate = librosa.load('./fadg0/audio/sa1.wav') #on charge le son "
   ]
  },
  {
   "cell_type": "code",
   "execution_count": null,
   "id": "bc64a237-6934-4157-a618-2406af54fb6a",
   "metadata": {},
   "outputs": [],
   "source": []
  }
 ],
 "metadata": {
  "kernelspec": {
   "display_name": "Python 3 (ipykernel)",
   "language": "python",
   "name": "python3"
  },
  "language_info": {
   "codemirror_mode": {
    "name": "ipython",
    "version": 3
   },
   "file_extension": ".py",
   "mimetype": "text/x-python",
   "name": "python",
   "nbconvert_exporter": "python",
   "pygments_lexer": "ipython3",
   "version": "3.9.7"
  }
 },
 "nbformat": 4,
 "nbformat_minor": 5
}
