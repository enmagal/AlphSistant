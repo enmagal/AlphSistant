{
 "cells": [
  {
   "cell_type": "code",
   "execution_count": 1,
   "id": "1192a1d0-b81d-4e58-b39e-c8330ab27f08",
   "metadata": {},
   "outputs": [],
   "source": [
    "import pandas as pd\n",
    "import numpy as np"
   ]
  },
  {
   "cell_type": "code",
   "execution_count": 2,
   "id": "f6d41dad-7a31-4930-b348-e547cc3b1d21",
   "metadata": {},
   "outputs": [
    {
     "data": {
      "text/html": [
       "<div>\n",
       "<style scoped>\n",
       "    .dataframe tbody tr th:only-of-type {\n",
       "        vertical-align: middle;\n",
       "    }\n",
       "\n",
       "    .dataframe tbody tr th {\n",
       "        vertical-align: top;\n",
       "    }\n",
       "\n",
       "    .dataframe thead th {\n",
       "        text-align: right;\n",
       "    }\n",
       "</style>\n",
       "<table border=\"1\" class=\"dataframe\">\n",
       "  <thead>\n",
       "    <tr style=\"text-align: right;\">\n",
       "      <th></th>\n",
       "      <th>Basis.txt</th>\n",
       "      <th>jaw_open.txt</th>\n",
       "      <th>left_eye_closed.txt</th>\n",
       "      <th>mouth_open.txt</th>\n",
       "      <th>right_eye_closed.txt</th>\n",
       "      <th>smile.txt</th>\n",
       "      <th>smile_left.txt</th>\n",
       "      <th>smile_right.txt</th>\n",
       "      <th>loss</th>\n",
       "      <th>sequence</th>\n",
       "      <th>frame</th>\n",
       "    </tr>\n",
       "  </thead>\n",
       "  <tbody>\n",
       "    <tr>\n",
       "      <th>0</th>\n",
       "      <td>1.382790</td>\n",
       "      <td>-0.533242</td>\n",
       "      <td>-0.027089</td>\n",
       "      <td>0.525382</td>\n",
       "      <td>0.020411</td>\n",
       "      <td>-0.079775</td>\n",
       "      <td>-0.125137</td>\n",
       "      <td>-0.159297</td>\n",
       "      <td>0.005074</td>\n",
       "      <td>sa1</td>\n",
       "      <td>face_001</td>\n",
       "    </tr>\n",
       "    <tr>\n",
       "      <th>1</th>\n",
       "      <td>1.334932</td>\n",
       "      <td>-0.747682</td>\n",
       "      <td>-0.016643</td>\n",
       "      <td>0.750153</td>\n",
       "      <td>0.036637</td>\n",
       "      <td>0.440960</td>\n",
       "      <td>0.196379</td>\n",
       "      <td>-0.994773</td>\n",
       "      <td>0.004914</td>\n",
       "      <td>sa1</td>\n",
       "      <td>face_002</td>\n",
       "    </tr>\n",
       "    <tr>\n",
       "      <th>2</th>\n",
       "      <td>1.398291</td>\n",
       "      <td>0.476191</td>\n",
       "      <td>-0.061056</td>\n",
       "      <td>-0.453352</td>\n",
       "      <td>0.025894</td>\n",
       "      <td>-0.540267</td>\n",
       "      <td>-0.335101</td>\n",
       "      <td>0.488071</td>\n",
       "      <td>0.005069</td>\n",
       "      <td>sa1</td>\n",
       "      <td>face_003</td>\n",
       "    </tr>\n",
       "    <tr>\n",
       "      <th>3</th>\n",
       "      <td>1.341485</td>\n",
       "      <td>0.070085</td>\n",
       "      <td>-0.025697</td>\n",
       "      <td>-0.070124</td>\n",
       "      <td>0.046413</td>\n",
       "      <td>-0.492420</td>\n",
       "      <td>0.128819</td>\n",
       "      <td>0.006151</td>\n",
       "      <td>0.004698</td>\n",
       "      <td>sa1</td>\n",
       "      <td>face_004</td>\n",
       "    </tr>\n",
       "    <tr>\n",
       "      <th>4</th>\n",
       "      <td>1.378907</td>\n",
       "      <td>-0.415929</td>\n",
       "      <td>-0.053151</td>\n",
       "      <td>0.412748</td>\n",
       "      <td>0.040539</td>\n",
       "      <td>1.015989</td>\n",
       "      <td>-0.752819</td>\n",
       "      <td>-0.622171</td>\n",
       "      <td>0.005301</td>\n",
       "      <td>sa1</td>\n",
       "      <td>face_005</td>\n",
       "    </tr>\n",
       "  </tbody>\n",
       "</table>\n",
       "</div>"
      ],
      "text/plain": [
       "   Basis.txt  jaw_open.txt  left_eye_closed.txt  mouth_open.txt  \\\n",
       "0   1.382790     -0.533242            -0.027089        0.525382   \n",
       "1   1.334932     -0.747682            -0.016643        0.750153   \n",
       "2   1.398291      0.476191            -0.061056       -0.453352   \n",
       "3   1.341485      0.070085            -0.025697       -0.070124   \n",
       "4   1.378907     -0.415929            -0.053151        0.412748   \n",
       "\n",
       "   right_eye_closed.txt  smile.txt  smile_left.txt  smile_right.txt      loss  \\\n",
       "0              0.020411  -0.079775       -0.125137        -0.159297  0.005074   \n",
       "1              0.036637   0.440960        0.196379        -0.994773  0.004914   \n",
       "2              0.025894  -0.540267       -0.335101         0.488071  0.005069   \n",
       "3              0.046413  -0.492420        0.128819         0.006151  0.004698   \n",
       "4              0.040539   1.015989       -0.752819        -0.622171  0.005301   \n",
       "\n",
       "  sequence     frame  \n",
       "0      sa1  face_001  \n",
       "1      sa1  face_002  \n",
       "2      sa1  face_003  \n",
       "3      sa1  face_004  \n",
       "4      sa1  face_005  "
      ]
     },
     "execution_count": 2,
     "metadata": {},
     "output_type": "execute_result"
    }
   ],
   "source": [
    "sk_weights = pd.read_csv(\"C:/Users/Enzo.Magal/Documents/Enzo2021/AlphSistant/ds_weights.csv\")\n",
    "sk_weights.head()\n"
   ]
  },
  {
   "cell_type": "code",
   "execution_count": null,
   "id": "6c249882-9869-4e06-bd82-2547c1b88a0a",
   "metadata": {},
   "outputs": [],
   "source": [
    "sk_weights['ref'] = sk_weights['sequence'] + '/' + sk_weights['frame']"
   ]
  },
  {
   "cell_type": "code",
   "execution_count": 77,
   "id": "e6583284-fb37-469e-8083-2d7aa57fb5cc",
   "metadata": {},
   "outputs": [
    {
     "name": "stdout",
     "output_type": "stream",
     "text": [
      "[0.756388222339565, -0.3538588329757624, 0.0961833685735844, 0.6708157585466985, 0.0473948280096164, 0.2584060617847508, -0.1471652082253487, -0.3298907184256385]\n"
     ]
    }
   ],
   "source": [
    "frame = \"face_002\"\n",
    "record = \"sa2\"\n",
    "weight_list = []\n",
    "df_weight = sk_weights.loc[sk_weights[\"sequence\"] == record, [\"Basis.txt\", \"jaw_open.txt\", \"left_eye_closed.txt\", \"mouth_open.txt\", \"right_eye_closed.txt\", \"smile.txt\", \"smile_left.txt\", \"smile_right.txt\", \"frame\"]]\n",
    "for i in range(8):\n",
    "    weight_list.append(df_weight.iloc[np.where(df_weight.loc[:, 'frame'] == frame)[0][0], i])\n",
    "print(weight_list)"
   ]
  },
  {
   "cell_type": "code",
   "execution_count": 20,
   "id": "e8724bac-43fa-4b95-bc22-63b89a4cd61e",
   "metadata": {},
   "outputs": [
    {
     "data": {
      "text/plain": [
       "[0.1471022696568558, 0.7931464426126045]"
      ]
     },
     "execution_count": 20,
     "metadata": {},
     "output_type": "execute_result"
    }
   ],
   "source": [
    "weight_list = list(sk_weights.loc[np.where(sk_weights.iloc[:, 0] == \"face_target/si649/face_088\"), 'w0'])\n",
    "weight_list += list(sk_weights.loc[np.where(sk_weights.iloc[:, 0] == \"face_target/si649/face_088\"), 'w1'])\n",
    "weight_list"
   ]
  },
  {
   "cell_type": "code",
   "execution_count": 20,
   "id": "1e78b8a1-4b31-4381-ae97-dad209e8676c",
   "metadata": {},
   "outputs": [
    {
     "ename": "ValueError",
     "evalue": "The truth value of a Series is ambiguous. Use a.empty, a.bool(), a.item(), a.any() or a.all().",
     "output_type": "error",
     "traceback": [
      "\u001b[1;31m---------------------------------------------------------------------------\u001b[0m",
      "\u001b[1;31mValueError\u001b[0m                                Traceback (most recent call last)",
      "\u001b[1;32mC:\\Users\\ENZO~1.MAG\\AppData\\Local\\Temp/ipykernel_17380/3651965725.py\u001b[0m in \u001b[0;36m<module>\u001b[1;34m\u001b[0m\n\u001b[1;32m----> 1\u001b[1;33m \u001b[0mnp\u001b[0m\u001b[1;33m.\u001b[0m\u001b[0mwhere\u001b[0m\u001b[1;33m(\u001b[0m\u001b[0msk_weights\u001b[0m\u001b[1;33m.\u001b[0m\u001b[0mloc\u001b[0m\u001b[1;33m[\u001b[0m\u001b[1;33m:\u001b[0m\u001b[1;33m,\u001b[0m \u001b[1;34m'sequence'\u001b[0m\u001b[1;33m]\u001b[0m \u001b[1;33m==\u001b[0m \u001b[1;34m\"sa1\"\u001b[0m \u001b[1;32mand\u001b[0m \u001b[0msk_weights\u001b[0m\u001b[1;33m.\u001b[0m\u001b[0mloc\u001b[0m\u001b[1;33m[\u001b[0m\u001b[1;33m:\u001b[0m\u001b[1;33m,\u001b[0m \u001b[1;34m'frame'\u001b[0m\u001b[1;33m]\u001b[0m \u001b[1;33m==\u001b[0m \u001b[1;34m\"face_001\"\u001b[0m\u001b[1;33m)\u001b[0m\u001b[1;33m\u001b[0m\u001b[1;33m\u001b[0m\u001b[0m\n\u001b[0m",
      "\u001b[1;32m~\\AppData\\Local\\Programs\\Python\\Python39\\lib\\site-packages\\pandas\\core\\generic.py\u001b[0m in \u001b[0;36m__nonzero__\u001b[1;34m(self)\u001b[0m\n\u001b[0;32m   1535\u001b[0m     \u001b[1;33m@\u001b[0m\u001b[0mfinal\u001b[0m\u001b[1;33m\u001b[0m\u001b[1;33m\u001b[0m\u001b[0m\n\u001b[0;32m   1536\u001b[0m     \u001b[1;32mdef\u001b[0m \u001b[0m__nonzero__\u001b[0m\u001b[1;33m(\u001b[0m\u001b[0mself\u001b[0m\u001b[1;33m)\u001b[0m\u001b[1;33m:\u001b[0m\u001b[1;33m\u001b[0m\u001b[1;33m\u001b[0m\u001b[0m\n\u001b[1;32m-> 1537\u001b[1;33m         raise ValueError(\n\u001b[0m\u001b[0;32m   1538\u001b[0m             \u001b[1;34mf\"The truth value of a {type(self).__name__} is ambiguous. \"\u001b[0m\u001b[1;33m\u001b[0m\u001b[1;33m\u001b[0m\u001b[0m\n\u001b[0;32m   1539\u001b[0m             \u001b[1;34m\"Use a.empty, a.bool(), a.item(), a.any() or a.all().\"\u001b[0m\u001b[1;33m\u001b[0m\u001b[1;33m\u001b[0m\u001b[0m\n",
      "\u001b[1;31mValueError\u001b[0m: The truth value of a Series is ambiguous. Use a.empty, a.bool(), a.item(), a.any() or a.all()."
     ]
    }
   ],
   "source": [
    "np.where(sk_weights.loc[:, 'sequence'] == \"sa1\" and sk_weights.loc[:, 'frame'] == \"face_001\")"
   ]
  },
  {
   "cell_type": "code",
   "execution_count": 26,
   "id": "80ee4e32-45c4-43a9-ad35-86e43a086127",
   "metadata": {},
   "outputs": [
    {
     "data": {
      "text/plain": [
       "False"
      ]
     },
     "execution_count": 26,
     "metadata": {},
     "output_type": "execute_result"
    }
   ],
   "source": []
  },
  {
   "cell_type": "code",
   "execution_count": 80,
   "id": "f1d4d3bf-e112-4c7e-8138-4f4ae540d441",
   "metadata": {},
   "outputs": [
    {
     "name": "stdout",
     "output_type": "stream",
     "text": [
      "[3, 4, 5]\n"
     ]
    }
   ],
   "source": [
    "liste = [3, 4]\n",
    "liste.append(5)\n",
    "print(liste)"
   ]
  },
  {
   "cell_type": "code",
   "execution_count": null,
   "id": "995d5197-364f-4cf9-bb0a-79857b261c3f",
   "metadata": {},
   "outputs": [],
   "source": []
  }
 ],
 "metadata": {
  "kernelspec": {
   "display_name": "Python 3 (ipykernel)",
   "language": "python",
   "name": "python3"
  },
  "language_info": {
   "codemirror_mode": {
    "name": "ipython",
    "version": 3
   },
   "file_extension": ".py",
   "mimetype": "text/x-python",
   "name": "python",
   "nbconvert_exporter": "python",
   "pygments_lexer": "ipython3",
   "version": "3.9.7"
  }
 },
 "nbformat": 4,
 "nbformat_minor": 5
}
