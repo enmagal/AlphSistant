{
 "cells": [
  {
   "cell_type": "code",
   "execution_count": 1,
   "id": "2e5c35a7-bebe-4390-943d-be1630835ab2",
   "metadata": {},
   "outputs": [],
   "source": [
    "# Imports PIL module \n",
    "import cv2\n",
    "import numpy as np\n",
    "import matplotlib.pyplot as plt\n",
    "import mediapipe as mp "
   ]
  },
  {
   "cell_type": "code",
   "execution_count": 2,
   "id": "05de742a-d721-4232-bdb8-2e79538d3272",
   "metadata": {},
   "outputs": [],
   "source": [
    "mp_face_mesh = mp.solutions.face_mesh"
   ]
  },
  {
   "cell_type": "code",
   "execution_count": 3,
   "id": "c11d7b26-14cf-4b55-b3a9-c6619e1c83b3",
   "metadata": {},
   "outputs": [],
   "source": [
    "def save_face(data, fname = './face_0.txt'): \n",
    "    recap_landmarks = np.zeros((478,3))\n",
    "    for i,l in enumerate(data.landmark):\n",
    "        recap_landmarks[i] = [l.x, l.y, l.z]\n",
    "\n",
    "    np.savetxt(fname, recap_landmarks)"
   ]
  },
  {
   "cell_type": "code",
   "execution_count": 4,
   "id": "1aa1551a-5f93-4f2b-b12b-2b4117af3eff",
   "metadata": {},
   "outputs": [],
   "source": [
    "from os import listdir\n",
    "from os.path import isfile, join\n",
    "\n",
    "mypath = 'C:/Users/Enzo.Magal/Documents/Enzo2021/VidTIMIT/fadg0/video/si1909'\n",
    "onlyfiles = [f for f in listdir(mypath) if isfile(join(mypath, f))]"
   ]
  },
  {
   "cell_type": "code",
   "execution_count": 5,
   "id": "4e72ea97-a3e6-4ad4-a479-2cccecda4d4b",
   "metadata": {},
   "outputs": [],
   "source": [
    "for filename in onlyfiles :\n",
    "    filepath = mypath + '/' + filename\n",
    "    img = cv2.imread(filepath)\n",
    "\n",
    "    img = cv2.flip(img, 1)\n",
    "    cv2.imshow('image', img)\n",
    "\n",
    "    with mp_face_mesh.FaceMesh(max_num_faces = 1, \n",
    "                           refine_landmarks = True, \n",
    "                           min_detection_confidence = 0.5, \n",
    "                           min_tracking_confidence = 0.5) as face_mesh: \n",
    "\n",
    "        results = face_mesh.process(img)\n",
    "    \n",
    "    \n",
    "    if results.multi_face_landmarks: \n",
    "        save_face(results.multi_face_landmarks[0], fname = \"C:/Users/Enzo.Magal/Documents/Enzo2021/VidTIMIT/fadg0/face_mesh/si1909/face_\" + str(filename))        \n",
    "\n",
    "cv2.destroyAllWindows()"
   ]
  },
  {
   "cell_type": "code",
   "execution_count": 6,
   "id": "3ea95c60-5a09-4a0c-a19f-f003a42deec9",
   "metadata": {},
   "outputs": [],
   "source": [
    "img = cv2.imread(\"C:/Users/Enzo.Magal/Documents/Enzo2021/VidTIMIT/fadg0/video/si1909/001\")\n",
    "\n",
    "img = cv2.flip(img, 1)\n",
    "cv2.imshow('image', img)\n",
    "\n",
    "with mp_face_mesh.FaceMesh(max_num_faces = 1, \n",
    "                       refine_landmarks = True, \n",
    "                       min_detection_confidence = 0.5, \n",
    "                       min_tracking_confidence = 0.5) as face_mesh: \n",
    "\n",
    "    results = face_mesh.process(img)"
   ]
  },
  {
   "cell_type": "code",
   "execution_count": null,
   "id": "00e205c7-dcba-4026-808f-a96c4fd01463",
   "metadata": {},
   "outputs": [],
   "source": [
    "f = open(path, 'r')\n",
    "# lire le contenu du fichier\n",
    "r = csv.reader(f, delimiter=\" \", quoting=csv.QUOTE_NONNUMERIC)\n",
    "face_mesh = list(r)"
   ]
  },
  {
   "cell_type": "code",
   "execution_count": null,
   "id": "bf19a028-e148-413f-a54b-731a27043349",
   "metadata": {},
   "outputs": [],
   "source": []
  }
 ],
 "metadata": {
  "kernelspec": {
   "display_name": "Python 3 (ipykernel)",
   "language": "python",
   "name": "python3"
  },
  "language_info": {
   "codemirror_mode": {
    "name": "ipython",
    "version": 3
   },
   "file_extension": ".py",
   "mimetype": "text/x-python",
   "name": "python",
   "nbconvert_exporter": "python",
   "pygments_lexer": "ipython3",
   "version": "3.9.7"
  }
 },
 "nbformat": 4,
 "nbformat_minor": 5
}
